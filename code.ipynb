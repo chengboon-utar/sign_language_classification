{
 "cells": [
  {
   "cell_type": "code",
   "execution_count": 1,
   "metadata": {},
   "outputs": [],
   "source": [
    "# import\n",
    "import torch\n",
    "import sklearn\n",
    "import matplotlib.pyplot as plt"
   ]
  },
  {
   "cell_type": "code",
   "execution_count": null,
   "metadata": {},
   "outputs": [],
   "source": [
    "class model(torch.nn.Module):\n",
    "    def __init__(self):\n",
    "        super(model, self).__init__()\n",
    "        self.linear = torch.nn.Linear(1, 1)\n",
    "    \n",
    "    def forward(self, x):\n",
    "        y_pred = self.linear(x)\n",
    "        return y_pred\n",
    "    \n",
    "    def backward(self, x, y):\n",
    "        y_pred = self.forward(x)\n",
    "        loss = torch.nn.MSELoss()(y_pred, y)\n",
    "        loss.backward()\n",
    "        return loss\n",
    "    \n",
    "    def train(self, x, y, epochs, lr):\n",
    "        optimizer = torch.optim.SGD(self.parameters(), lr=lr)\n",
    "        for epoch in range(epochs):\n",
    "            loss = self.backward(x, y)\n",
    "            optimizer.step()\n",
    "            optimizer.zero_grad()\n",
    "            if epoch % 100 == 0:\n",
    "                print('epoch {}, loss {}'.format(epoch, loss.item()))\n",
    "    \n",
    "    def test(self, x, y):\n",
    "        y_pred = self.forward(x)\n",
    "        loss = torch.nn.MSELoss()(y_pred, y)\n",
    "        print('test loss: {}'.format(loss.item()))\n",
    "        accuracy = sklearn.metrics.r2_score(y.detach().numpy(), y_pred.detach().numpy())\n",
    "        print('test accuracy: {}'.format(accuracy))\n",
    "    \n",
    "    def predict(self, x):\n",
    "        y_pred = self.forward(x)\n",
    "        return y_pred.detach().numpy()\n",
    "    "
   ]
  }
 ],
 "metadata": {
  "kernelspec": {
   "display_name": "tensorflow2",
   "language": "python",
   "name": "python3"
  },
  "language_info": {
   "codemirror_mode": {
    "name": "ipython",
    "version": 3
   },
   "file_extension": ".py",
   "mimetype": "text/x-python",
   "name": "python",
   "nbconvert_exporter": "python",
   "pygments_lexer": "ipython3",
   "version": "3.10.9"
  },
  "orig_nbformat": 4
 },
 "nbformat": 4,
 "nbformat_minor": 2
}
